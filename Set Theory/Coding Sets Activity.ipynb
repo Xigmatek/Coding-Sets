{
 "cells": [
  {
   "cell_type": "markdown",
   "metadata": {},
   "source": [
    "## Coding Activity: Set Theory"
   ]
  },
  {
   "cell_type": "markdown",
   "metadata": {},
   "source": [
    "<h4><center><i>Create your own collection variables with their contents using the sets in your Fandom Assignment then perform different join methods using your variables.</i></center></h4>"
   ]
  },
  {
   "cell_type": "code",
   "execution_count": null,
   "metadata": {},
   "outputs": [],
   "source": [
    "Interests = [\"Basketball\", \"Watching Shows\", \"Dance\", \"Super Heroes\"]\n",
    "Basketball = [\"NBA\", \"PBA\", \"Kuroko No Basuke\", \"Suramu Danku\", \"FIBA\"]\n",
    "Shows = [\"Anime\", \"NBA\", \"PBA\", \"Comic book movies\", \"Twitch\", \"Netflix\", \"YouTube\", \"World of Dance\"]\n",
    "Anime = [\"Kuroko No Basuke\", \"One Piece\", \"Naruto\", \"Suramu Danku\", \"Meitantei Konan\"]\n",
    "Comic_book_movies = [\"Batman\", \"Superman\", \"Spider-man\", \"Wonder Woman\", \"Avengers\", \"Aquaman\", \"Justice League\",\"Iron man\", \"300\", \"Death Note\", \"Men in Black\", \"Ghost in the shell\"]\n",
    "Dance = [\"Lyrical\", \"Urban\", \"Hip-hop\", \"House\", \"Femme\", \"Biboy\"]\n",
    "Super_heroes = [\"Batman\", \"Superman\", \"Wonder Woman\", \"Aquaman\", \"Flash\", \"Green Lantern\", \"Iron man\", \"Martian manhunter\", \"Atom\", \"Green Arrow\", \"Robin\", \"Black Canary\", \"Kid Flash\"]\n"
   ]
  },
  {
   "cell_type": "code",
   "execution_count": null,
   "metadata": {},
   "outputs": [],
   "source": [
    "i = set(Interests) \n",
    "b = set(Basketball)\n",
    "s = set(Shows)\n",
    "a = set(Anime)\n",
    "c = set(Comic_book_movies)\n",
    "d = set(Dance)\n",
    "sh = set(Super_heroes)\n"
   ]
  },
  {
   "cell_type": "markdown",
   "metadata": {},
   "source": [
    "<h3>Inner Join</h3>"
   ]
  },
  {
   "cell_type": "code",
   "execution_count": null,
   "metadata": {},
   "outputs": [],
   "source": [
    "common = b.intersection(a)\n",
    "common"
   ]
  },
  {
   "cell_type": "code",
   "execution_count": null,
   "metadata": {},
   "outputs": [],
   "source": [
    "common1 = b.intersection(s)\n",
    "common1"
   ]
  },
  {
   "cell_type": "code",
   "execution_count": null,
   "metadata": {},
   "outputs": [],
   "source": [
    "common2 = c.intersection(sh)\n",
    "common2"
   ]
  },
  {
   "cell_type": "markdown",
   "metadata": {},
   "source": [
    "<h3>Left Join</h3>"
   ]
  },
  {
   "cell_type": "code",
   "execution_count": null,
   "metadata": {},
   "outputs": [],
   "source": [
    "ljoin = common1.union(b)\n",
    "ljoin"
   ]
  },
  {
   "cell_type": "code",
   "execution_count": null,
   "metadata": {},
   "outputs": [],
   "source": [
    "ljoin1 = common1.union(b)\n",
    "ljoin1"
   ]
  },
  {
   "cell_type": "code",
   "execution_count": null,
   "metadata": {},
   "outputs": [],
   "source": [
    "ljoin2 = common.union(c)\n",
    "ljoin2"
   ]
  },
  {
   "cell_type": "code",
   "execution_count": null,
   "metadata": {},
   "outputs": [],
   "source": [
    "ljoin4 = common2.union(b)\n",
    "ljoin4"
   ]
  },
  {
   "cell_type": "markdown",
   "metadata": {},
   "source": [
    "<h3>Right Join</h3>"
   ]
  },
  {
   "cell_type": "code",
   "execution_count": null,
   "metadata": {},
   "outputs": [],
   "source": [
    "rjoin = common.union(a)\n",
    "rjoin"
   ]
  },
  {
   "cell_type": "code",
   "execution_count": null,
   "metadata": {},
   "outputs": [],
   "source": [
    "rjoin1 = common1.union(s)\n",
    "rjoin1"
   ]
  },
  {
   "cell_type": "code",
   "execution_count": null,
   "metadata": {},
   "outputs": [],
   "source": [
    "rjoin2 = common2.union(sh)\n",
    "rjoin2"
   ]
  },
  {
   "cell_type": "markdown",
   "metadata": {},
   "source": [
    "<h3>Left Exclusive Join</h3>"
   ]
  },
  {
   "cell_type": "code",
   "execution_count": null,
   "metadata": {},
   "outputs": [],
   "source": [
    "exljoin = b.difference(a)\n",
    "exljoin"
   ]
  },
  {
   "cell_type": "code",
   "execution_count": null,
   "metadata": {},
   "outputs": [],
   "source": [
    "exljoin1 = b.difference(s)\n",
    "exljoin1"
   ]
  },
  {
   "cell_type": "code",
   "execution_count": null,
   "metadata": {},
   "outputs": [],
   "source": [
    "exljoin2 = c.difference(sh)\n",
    "exljoin2"
   ]
  },
  {
   "cell_type": "code",
   "execution_count": null,
   "metadata": {},
   "outputs": [],
   "source": [
    "exrjoin = a.difference(b)\n",
    "exrjoin"
   ]
  },
  {
   "cell_type": "code",
   "execution_count": null,
   "metadata": {},
   "outputs": [],
   "source": [
    "exrjoin1= s.difference(b)\n",
    "exrjoin1"
   ]
  },
  {
   "cell_type": "code",
   "execution_count": null,
   "metadata": {},
   "outputs": [],
   "source": [
    "exrjoin2 = sh.difference(c)\n",
    "exrjoin2"
   ]
  },
  {
   "cell_type": "markdown",
   "metadata": {},
   "source": [
    "<h3>Full Outer Join</h3>"
   ]
  },
  {
   "cell_type": "code",
   "execution_count": null,
   "metadata": {},
   "outputs": [],
   "source": [
    "fullouter = i.union(b)\n",
    "fullouter"
   ]
  },
  {
   "cell_type": "code",
   "execution_count": null,
   "metadata": {},
   "outputs": [],
   "source": [
    "fullouter1 = s.union(sh)\n",
    "fullouter1"
   ]
  },
  {
   "cell_type": "code",
   "execution_count": null,
   "metadata": {},
   "outputs": [],
   "source": [
    "fullouter2 = d.union(c)\n",
    "fullouter2"
   ]
  },
  {
   "cell_type": "code",
   "execution_count": null,
   "metadata": {},
   "outputs": [],
   "source": [
    "fullouter3 = a.union(sh)\n",
    "fullouter3"
   ]
  },
  {
   "cell_type": "markdown",
   "metadata": {},
   "source": [
    "<h3>Full Outer Exclusive Join</h3>"
   ]
  },
  {
   "cell_type": "code",
   "execution_count": null,
   "metadata": {},
   "outputs": [],
   "source": [
    "xouter = exljoin.union(exrjoin)\n",
    "xouter"
   ]
  },
  {
   "cell_type": "code",
   "execution_count": null,
   "metadata": {},
   "outputs": [],
   "source": [
    "xouter1 = exljoin1.union(exrjoin1)\n",
    "xouter1"
   ]
  },
  {
   "cell_type": "code",
   "execution_count": null,
   "metadata": {},
   "outputs": [],
   "source": [
    "xouter2 = exljoin2.union(exrjoin2)\n",
    "xouter2"
   ]
  },
  {
   "cell_type": "code",
   "execution_count": null,
   "metadata": {},
   "outputs": [],
   "source": []
  }
 ],
 "metadata": {
  "kernelspec": {
   "display_name": "Python 3",
   "language": "python",
   "name": "python3"
  },
  "language_info": {
   "codemirror_mode": {
    "name": "ipython",
    "version": 3
   },
   "file_extension": ".py",
   "mimetype": "text/x-python",
   "name": "python",
   "nbconvert_exporter": "python",
   "pygments_lexer": "ipython3",
   "version": "3.8.3"
  }
 },
 "nbformat": 4,
 "nbformat_minor": 4
}
